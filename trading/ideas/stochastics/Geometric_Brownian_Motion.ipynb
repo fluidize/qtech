{
 "cells": [
  {
   "cell_type": "code",
   "execution_count": null,
   "metadata": {},
   "outputs": [],
   "source": [
    "import numpy as np\n",
    "import matplotlib.pyplot as plt\n",
    "\n",
    "def wiener_process(n_steps, time_unit=1):\n",
    "    w = np.zeros(n_steps * time_unit)\n",
    "    delta_t = time_unit / n_steps\n",
    "\n",
    "    for i in range(1, n_steps * time_unit):\n",
    "        delta_w = np.random.normal(0, np.sqrt(delta_t)) #Numpy random takes in standard deviation, not variance.\n",
    "        w[i] = w[i-1] + delta_w\n",
    "    \n",
    "    return w\n",
    "\n",
    "plt.plot(wiener_process(1000))\n",
    "plt.show()"
   ]
  },
  {
   "cell_type": "markdown",
   "metadata": {},
   "source": [
    "$W(t)$ is a Wiener process where:\n",
    "\n",
    "- $W(0) = 0$\n",
    "\n",
    "- $W(t) \\sim \\mathcal{N}(0, t)$\n",
    "\n",
    "- $W(t) - W(s) \\sim \\mathcal{N}(0, t-s)$ for $0 \\leq s < t $ i.e., an earlier time\n",
    "\n",
    "There is zero drift, therefore expected value stays at 0. \n",
    "\n",
    "- $E[W(t)] = 0$\n",
    "\n",
    "In a Wiener process, the variance grows proportionally with time.\n",
    "\n",
    "- $Var(W(t)) \\propto t$\n"
   ]
  },
  {
   "cell_type": "code",
   "execution_count": null,
   "metadata": {},
   "outputs": [],
   "source": [
    "import numpy as np\n",
    "import matplotlib.pyplot as plt\n",
    "\n",
    "\n",
    "def geometric_brownian_motion(S0, drift, volatility, n_steps, time_unit=1):\n",
    "    # Wiener Process\n",
    "    w = np.zeros(n_steps * time_unit)\n",
    "    delta_t = time_unit / n_steps\n",
    "\n",
    "    for i in range(1, n_steps * time_unit):\n",
    "        delta_w = np.random.normal(0, np.sqrt(delta_t))\n",
    "        w[i] = w[i-1] + delta_w\n",
    "    # w is the output of the Wiener Process\n",
    "    \n",
    "    # Apply the Wiener Process to the Geometric Brownian Motion\n",
    "    S = np.zeros(n_steps * time_unit)\n",
    "    S[0] = S0\n",
    "    \n",
    "    delta_t = time_unit / n_steps\n",
    "    for i in range(1, n_steps * time_unit):\n",
    "        S[i] = S[i-1] * np.exp((drift - 0.5 * volatility**2) * delta_t + volatility * np.sqrt(delta_t) * (w[i] - w[i-1]))\n",
    "    \n",
    "    return S\n",
    "\n",
    "start_price = 100\n",
    "drift = 0.01 # 1% drift upwards\n",
    "volatility = 0.1 # 0.1/10% standard deviation\n",
    "n_steps = 365 # 365 days in a year\n",
    "time_unit = 1 # 1 year\n",
    "\n",
    "plt.plot(geometric_brownian_motion(start_price, drift, volatility, n_steps, time_unit))\n",
    "plt.show()\n",
    "\n"
   ]
  },
  {
   "cell_type": "markdown",
   "metadata": {},
   "source": [
    "Geometric Brownian Motion: $$ dS(t) = \\mu S(t) dt + \\sigma S(t) dW(t) $$\n",
    "Where:\n",
    "- $S(t)$ is the asset price at time t.\n",
    "- $\\mu$ is the drift term/expected return\n",
    "- $\\sigma$ is the volatility, representing the standard deviations of returns.\n",
    "- $W(t)$ A Wiener process. Important to remember that while W(t) follows a normal distribution, as it is exponentiated, the output turns into a log-norm distribution.\n",
    "\n",
    "In Discrete Form: $$ S_{i+1} = S_i \\exp\\left( \\left( \\mu - \\frac{1}{2}\\sigma^2 \\right) \\Delta t + \\sigma \\sqrt{\\Delta t} \\left(W_{i+1} - W_i\\right) \\right) $$\n",
    "The $\\frac{1}{2}$ correction comes from **Itô's Lemma**. If you apply Itô's Lemma to the logarithm of the asset price \n",
    "($ln(S(t))$), you get a correction term due to the stochastic part of the process ($dW(t)$ term). Itô's Lemma accounts for the fact that when you take the logarithm of a stochastic process, the variance contributes to the drift term.\n"
   ]
  }
 ],
 "metadata": {
  "kernelspec": {
   "display_name": "Python 3",
   "language": "python",
   "name": "python3"
  },
  "language_info": {
   "codemirror_mode": {
    "name": "ipython",
    "version": 3
   },
   "file_extension": ".py",
   "mimetype": "text/x-python",
   "name": "python",
   "nbconvert_exporter": "python",
   "pygments_lexer": "ipython3",
   "version": "3.12.9"
  }
 },
 "nbformat": 4,
 "nbformat_minor": 4
}
